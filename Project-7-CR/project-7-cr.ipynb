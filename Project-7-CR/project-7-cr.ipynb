{
 "cells": [
  {
   "cell_type": "markdown",
   "metadata": {
    "_cell_guid": "b1076dfc-b9ad-4769-8c92-a6c4dae69d19",
    "_uuid": "8f2839f25d086af736a60e9eeb907d3b93b6e0e5"
   },
   "source": [
    "# **OPEN-ARC**\n",
    "---\n",
    "\n",
    "### Project 7: Crop Recommendation Model:\n",
    "**Challenge:** Create an AI model, capable of recommending crops based on different feature values, to optimize crop yields.\n",
    "\n",
    "\n",
    "### Terms and Use:\n",
    "Learn more about the project's [LICENSE](https://github.com/Infinitode/OPEN-ARC/blob/main/LICENSE) and read our [CODE_OF_CONDUCT](https://github.com/Infinitode/OPEN-ARC/blob/main/CODE_OF_CONDUCT) before contributing to the project. You can contribute to this project from here: [https://github.com/Infinitode/OPEN-ARC/](https://github.com/Infinitode/OPEN-ARC/).\n",
    "\n",
    "---"
   ]
  },
  {
   "cell_type": "markdown",
   "metadata": {},
   "source": [
    "Please fill out this performance sheet to help others quickly see your model's performance **(optional)**:\n",
    "\n",
    "### Performance Sheet:\n",
    "| Contributor | Architecture Type | Platform | Base Model | Dataset | Accuracy | Link |\n",
    "|-------------|-------------------|----------|------------|---------|----------|------|\n",
    "| Infinitode  | XGBClassifier  | Kaggle   | ✔  | Crop Recommendation Dataset | 98.6%    | [Notebook](https://github.com/Infinitode/OPEN-ARC/blob/main/Project-7-CR/project-7-cr.ipynb) |\n",
    "| Username  | Unknown  | Kaggle   | ✗/✔  | Crop Recommendation Dataset | Score    | [Notebook](https://github.com) |\n",
    "\n",
    "---"
   ]
  },
  {
   "cell_type": "markdown",
   "metadata": {},
   "source": [
    "### Model: XGBoost Classifier:\n",
    "This model implementation uses a `XGBoost Classifier` model, which is an extremely optimized and efficient classification model, perfect for our use case. We've also used `sklearn's` `LabelEncoder` to process and encode the target `\"Crop\"` string, into a numerical format."
   ]
  },
  {
   "cell_type": "markdown",
   "metadata": {},
   "source": [
    "### Import the necessary libraries"
   ]
  },
  {
   "cell_type": "code",
   "execution_count": 1,
   "metadata": {
    "execution": {
     "iopub.execute_input": "2024-10-10T10:42:20.789557Z",
     "iopub.status.busy": "2024-10-10T10:42:20.788212Z",
     "iopub.status.idle": "2024-10-10T10:42:23.842363Z",
     "shell.execute_reply": "2024-10-10T10:42:23.840868Z",
     "shell.execute_reply.started": "2024-10-10T10:42:20.789489Z"
    },
    "trusted": true
   },
   "outputs": [],
   "source": [
    "import pandas as pd\n",
    "import numpy as np\n",
    "from sklearn.model_selection import train_test_split\n",
    "from sklearn.preprocessing import LabelEncoder\n",
    "from xgboost import XGBClassifier\n",
    "from sklearn.metrics import accuracy_score\n",
    "import random"
   ]
  },
  {
   "cell_type": "markdown",
   "metadata": {},
   "source": [
    "### Load the dataset, preprocess the data\n",
    "\n",
    "We'll also check for missing values, and remove the target variable from the dataset, leaving us with only the training data."
   ]
  },
  {
   "cell_type": "code",
   "execution_count": 2,
   "metadata": {
    "execution": {
     "iopub.execute_input": "2024-10-10T10:42:24.545065Z",
     "iopub.status.busy": "2024-10-10T10:42:24.544473Z",
     "iopub.status.idle": "2024-10-10T10:42:24.684214Z",
     "shell.execute_reply": "2024-10-10T10:42:24.683036Z",
     "shell.execute_reply.started": "2024-10-10T10:42:24.545000Z"
    },
    "trusted": true
   },
   "outputs": [
    {
     "name": "stdout",
     "output_type": "stream",
     "text": [
      "Nitrogen       0\n",
      "Phosphorus     0\n",
      "Potassium      0\n",
      "Temperature    0\n",
      "Humidity       0\n",
      "pH_Value       0\n",
      "Rainfall       0\n",
      "Crop           0\n",
      "dtype: int64\n"
     ]
    }
   ],
   "source": [
    "# Load dataset\n",
    "dataset_path = \"/kaggle/input/crop-recommendation-dataset/Crop_Recommendation.csv\"\n",
    "df = pd.read_csv(dataset_path)\n",
    "\n",
    "# Check for missing values\n",
    "print(df.isnull().sum())\n",
    "\n",
    "# Encode the target variable 'Crop' (crop recommendation)\n",
    "le = LabelEncoder()\n",
    "df['Crop'] = le.fit_transform(df['Crop'])\n",
    "\n",
    "# Separate features (X) and target (y)\n",
    "X = df.drop('Crop', axis=1)\n",
    "y = df['Crop']"
   ]
  },
  {
   "cell_type": "markdown",
   "metadata": {},
   "source": [
    "### Split the dataset into train and test sets\n",
    "\n",
    "Now we'll split the dataset into train and test sets, with a size of `80% train`, and `20% test`."
   ]
  },
  {
   "cell_type": "code",
   "execution_count": 3,
   "metadata": {
    "execution": {
     "iopub.execute_input": "2024-10-10T10:42:27.027706Z",
     "iopub.status.busy": "2024-10-10T10:42:27.027255Z",
     "iopub.status.idle": "2024-10-10T10:42:27.040062Z",
     "shell.execute_reply": "2024-10-10T10:42:27.038654Z",
     "shell.execute_reply.started": "2024-10-10T10:42:27.027663Z"
    },
    "trusted": true
   },
   "outputs": [],
   "source": [
    "# Split the dataset into 80% training and 20% testing\n",
    "X_train, X_test, y_train, y_test = train_test_split(X, y, test_size=0.2, random_state=42)"
   ]
  },
  {
   "cell_type": "markdown",
   "metadata": {},
   "source": [
    "### Initialize the model, and train"
   ]
  },
  {
   "cell_type": "code",
   "execution_count": 4,
   "metadata": {
    "execution": {
     "iopub.execute_input": "2024-10-10T10:42:28.934342Z",
     "iopub.status.busy": "2024-10-10T10:42:28.933612Z",
     "iopub.status.idle": "2024-10-10T10:42:32.515176Z",
     "shell.execute_reply": "2024-10-10T10:42:32.513667Z",
     "shell.execute_reply.started": "2024-10-10T10:42:28.934280Z"
    },
    "trusted": true
   },
   "outputs": [
    {
     "data": {
      "text/html": [
       "<style>#sk-container-id-1 {color: black;background-color: white;}#sk-container-id-1 pre{padding: 0;}#sk-container-id-1 div.sk-toggleable {background-color: white;}#sk-container-id-1 label.sk-toggleable__label {cursor: pointer;display: block;width: 100%;margin-bottom: 0;padding: 0.3em;box-sizing: border-box;text-align: center;}#sk-container-id-1 label.sk-toggleable__label-arrow:before {content: \"▸\";float: left;margin-right: 0.25em;color: #696969;}#sk-container-id-1 label.sk-toggleable__label-arrow:hover:before {color: black;}#sk-container-id-1 div.sk-estimator:hover label.sk-toggleable__label-arrow:before {color: black;}#sk-container-id-1 div.sk-toggleable__content {max-height: 0;max-width: 0;overflow: hidden;text-align: left;background-color: #f0f8ff;}#sk-container-id-1 div.sk-toggleable__content pre {margin: 0.2em;color: black;border-radius: 0.25em;background-color: #f0f8ff;}#sk-container-id-1 input.sk-toggleable__control:checked~div.sk-toggleable__content {max-height: 200px;max-width: 100%;overflow: auto;}#sk-container-id-1 input.sk-toggleable__control:checked~label.sk-toggleable__label-arrow:before {content: \"▾\";}#sk-container-id-1 div.sk-estimator input.sk-toggleable__control:checked~label.sk-toggleable__label {background-color: #d4ebff;}#sk-container-id-1 div.sk-label input.sk-toggleable__control:checked~label.sk-toggleable__label {background-color: #d4ebff;}#sk-container-id-1 input.sk-hidden--visually {border: 0;clip: rect(1px 1px 1px 1px);clip: rect(1px, 1px, 1px, 1px);height: 1px;margin: -1px;overflow: hidden;padding: 0;position: absolute;width: 1px;}#sk-container-id-1 div.sk-estimator {font-family: monospace;background-color: #f0f8ff;border: 1px dotted black;border-radius: 0.25em;box-sizing: border-box;margin-bottom: 0.5em;}#sk-container-id-1 div.sk-estimator:hover {background-color: #d4ebff;}#sk-container-id-1 div.sk-parallel-item::after {content: \"\";width: 100%;border-bottom: 1px solid gray;flex-grow: 1;}#sk-container-id-1 div.sk-label:hover label.sk-toggleable__label {background-color: #d4ebff;}#sk-container-id-1 div.sk-serial::before {content: \"\";position: absolute;border-left: 1px solid gray;box-sizing: border-box;top: 0;bottom: 0;left: 50%;z-index: 0;}#sk-container-id-1 div.sk-serial {display: flex;flex-direction: column;align-items: center;background-color: white;padding-right: 0.2em;padding-left: 0.2em;position: relative;}#sk-container-id-1 div.sk-item {position: relative;z-index: 1;}#sk-container-id-1 div.sk-parallel {display: flex;align-items: stretch;justify-content: center;background-color: white;position: relative;}#sk-container-id-1 div.sk-item::before, #sk-container-id-1 div.sk-parallel-item::before {content: \"\";position: absolute;border-left: 1px solid gray;box-sizing: border-box;top: 0;bottom: 0;left: 50%;z-index: -1;}#sk-container-id-1 div.sk-parallel-item {display: flex;flex-direction: column;z-index: 1;position: relative;background-color: white;}#sk-container-id-1 div.sk-parallel-item:first-child::after {align-self: flex-end;width: 50%;}#sk-container-id-1 div.sk-parallel-item:last-child::after {align-self: flex-start;width: 50%;}#sk-container-id-1 div.sk-parallel-item:only-child::after {width: 0;}#sk-container-id-1 div.sk-dashed-wrapped {border: 1px dashed gray;margin: 0 0.4em 0.5em 0.4em;box-sizing: border-box;padding-bottom: 0.4em;background-color: white;}#sk-container-id-1 div.sk-label label {font-family: monospace;font-weight: bold;display: inline-block;line-height: 1.2em;}#sk-container-id-1 div.sk-label-container {text-align: center;}#sk-container-id-1 div.sk-container {/* jupyter's `normalize.less` sets `[hidden] { display: none; }` but bootstrap.min.css set `[hidden] { display: none !important; }` so we also need the `!important` here to be able to override the default hidden behavior on the sphinx rendered scikit-learn.org. See: https://github.com/scikit-learn/scikit-learn/issues/21755 */display: inline-block !important;position: relative;}#sk-container-id-1 div.sk-text-repr-fallback {display: none;}</style><div id=\"sk-container-id-1\" class=\"sk-top-container\"><div class=\"sk-text-repr-fallback\"><pre>XGBClassifier(base_score=None, booster=None, callbacks=None,\n",
       "              colsample_bylevel=None, colsample_bynode=None,\n",
       "              colsample_bytree=None, device=None, early_stopping_rounds=None,\n",
       "              enable_categorical=False, eval_metric=&#x27;mlogloss&#x27;,\n",
       "              feature_types=None, gamma=None, grow_policy=None,\n",
       "              importance_type=None, interaction_constraints=None,\n",
       "              learning_rate=None, max_bin=None, max_cat_threshold=None,\n",
       "              max_cat_to_onehot=None, max_delta_step=None, max_depth=None,\n",
       "              max_leaves=None, min_child_weight=None, missing=nan,\n",
       "              monotone_constraints=None, multi_strategy=None, n_estimators=None,\n",
       "              n_jobs=None, num_parallel_tree=None, objective=&#x27;multi:softprob&#x27;, ...)</pre><b>In a Jupyter environment, please rerun this cell to show the HTML representation or trust the notebook. <br />On GitHub, the HTML representation is unable to render, please try loading this page with nbviewer.org.</b></div><div class=\"sk-container\" hidden><div class=\"sk-item\"><div class=\"sk-estimator sk-toggleable\"><input class=\"sk-toggleable__control sk-hidden--visually\" id=\"sk-estimator-id-1\" type=\"checkbox\" checked><label for=\"sk-estimator-id-1\" class=\"sk-toggleable__label sk-toggleable__label-arrow\">XGBClassifier</label><div class=\"sk-toggleable__content\"><pre>XGBClassifier(base_score=None, booster=None, callbacks=None,\n",
       "              colsample_bylevel=None, colsample_bynode=None,\n",
       "              colsample_bytree=None, device=None, early_stopping_rounds=None,\n",
       "              enable_categorical=False, eval_metric=&#x27;mlogloss&#x27;,\n",
       "              feature_types=None, gamma=None, grow_policy=None,\n",
       "              importance_type=None, interaction_constraints=None,\n",
       "              learning_rate=None, max_bin=None, max_cat_threshold=None,\n",
       "              max_cat_to_onehot=None, max_delta_step=None, max_depth=None,\n",
       "              max_leaves=None, min_child_weight=None, missing=nan,\n",
       "              monotone_constraints=None, multi_strategy=None, n_estimators=None,\n",
       "              n_jobs=None, num_parallel_tree=None, objective=&#x27;multi:softprob&#x27;, ...)</pre></div></div></div></div></div>"
      ],
      "text/plain": [
       "XGBClassifier(base_score=None, booster=None, callbacks=None,\n",
       "              colsample_bylevel=None, colsample_bynode=None,\n",
       "              colsample_bytree=None, device=None, early_stopping_rounds=None,\n",
       "              enable_categorical=False, eval_metric='mlogloss',\n",
       "              feature_types=None, gamma=None, grow_policy=None,\n",
       "              importance_type=None, interaction_constraints=None,\n",
       "              learning_rate=None, max_bin=None, max_cat_threshold=None,\n",
       "              max_cat_to_onehot=None, max_delta_step=None, max_depth=None,\n",
       "              max_leaves=None, min_child_weight=None, missing=nan,\n",
       "              monotone_constraints=None, multi_strategy=None, n_estimators=None,\n",
       "              n_jobs=None, num_parallel_tree=None, objective='multi:softprob', ...)"
      ]
     },
     "execution_count": 4,
     "metadata": {},
     "output_type": "execute_result"
    }
   ],
   "source": [
    "# Train a model using XGBoost for fast and accurate classification\n",
    "model = XGBClassifier(use_label_encoder=False, eval_metric='mlogloss')\n",
    "\n",
    "# Fit the model\n",
    "model.fit(X_train, y_train)"
   ]
  },
  {
   "cell_type": "markdown",
   "metadata": {},
   "source": [
    "### Evaluate the model on the test set"
   ]
  },
  {
   "cell_type": "code",
   "execution_count": 5,
   "metadata": {
    "execution": {
     "iopub.execute_input": "2024-10-10T10:42:34.307660Z",
     "iopub.status.busy": "2024-10-10T10:42:34.307207Z",
     "iopub.status.idle": "2024-10-10T10:42:34.359256Z",
     "shell.execute_reply": "2024-10-10T10:42:34.358024Z",
     "shell.execute_reply.started": "2024-10-10T10:42:34.307619Z"
    },
    "trusted": true
   },
   "outputs": [
    {
     "name": "stdout",
     "output_type": "stream",
     "text": [
      "Test Set Accuracy: 98.64%\n"
     ]
    }
   ],
   "source": [
    "# Predict on the test set\n",
    "y_pred = model.predict(X_test)\n",
    "\n",
    "# Calculate accuracy\n",
    "accuracy = accuracy_score(y_test, y_pred)\n",
    "print(f\"Test Set Accuracy: {accuracy * 100:.2f}%\")"
   ]
  },
  {
   "cell_type": "markdown",
   "metadata": {},
   "source": [
    "A test set accuracy of `98.64%`, is not bad. It shows that our model, can accurately learn from the features in our dataset, and generalize well to data it has not seen before."
   ]
  },
  {
   "cell_type": "markdown",
   "metadata": {},
   "source": [
    "### Test the model, on random samples\n",
    "\n",
    "Now let's test the model on random samples from our test set, and see how it performs."
   ]
  },
  {
   "cell_type": "code",
   "execution_count": 6,
   "metadata": {
    "execution": {
     "iopub.execute_input": "2024-10-10T10:42:37.677553Z",
     "iopub.status.busy": "2024-10-10T10:42:37.677000Z",
     "iopub.status.idle": "2024-10-10T10:42:37.711923Z",
     "shell.execute_reply": "2024-10-10T10:42:37.710969Z",
     "shell.execute_reply.started": "2024-10-10T10:42:37.677502Z"
    },
    "trusted": true
   },
   "outputs": [
    {
     "name": "stdout",
     "output_type": "stream",
     "text": [
      "Sample 1:\n",
      "Features: \n",
      "Nitrogen        74.000000\n",
      "Phosphorus      54.000000\n",
      "Potassium       38.000000\n",
      "Temperature     25.655535\n",
      "Humidity        83.470211\n",
      "pH_Value         7.120273\n",
      "Rainfall       217.378858\n",
      "Name: 56, dtype: float64\n",
      "Predicted Crop: Rice\n",
      "Ground Truth: Rice\n",
      "------------------------------\n",
      "Sample 2:\n",
      "Features: \n",
      "Nitrogen        21.000000\n",
      "Phosphorus      20.000000\n",
      "Potassium       31.000000\n",
      "Temperature     25.600337\n",
      "Humidity        99.724010\n",
      "pH_Value         5.855458\n",
      "Rainfall       165.824873\n",
      "Name: 1891, dtype: float64\n",
      "Predicted Crop: Coconut\n",
      "Ground Truth: Coconut\n",
      "------------------------------\n",
      "Sample 3:\n",
      "Features: \n",
      "Nitrogen       20.000000\n",
      "Phosphorus     19.000000\n",
      "Potassium      35.000000\n",
      "Temperature    34.177198\n",
      "Humidity       50.621616\n",
      "pH_Value        6.113935\n",
      "Rainfall       98.006880\n",
      "Name: 1105, dtype: float64\n",
      "Predicted Crop: Mango\n",
      "Ground Truth: Mango\n",
      "------------------------------\n",
      "Sample 4:\n",
      "Features: \n",
      "Nitrogen       21.000000\n",
      "Phosphorus     31.000000\n",
      "Potassium      32.000000\n",
      "Temperature    35.385987\n",
      "Humidity       51.426642\n",
      "pH_Value        5.254532\n",
      "Rainfall       90.296439\n",
      "Name: 1151, dtype: float64\n",
      "Predicted Crop: Mango\n",
      "Ground Truth: Mango\n",
      "------------------------------\n",
      "Sample 5:\n",
      "Features: \n",
      "Nitrogen        35.000000\n",
      "Phosphorus     145.000000\n",
      "Potassium      195.000000\n",
      "Temperature     22.039115\n",
      "Humidity        94.580758\n",
      "pH_Value         6.231950\n",
      "Rainfall       110.980401\n",
      "Name: 1594, dtype: float64\n",
      "Predicted Crop: Apple\n",
      "Ground Truth: Apple\n",
      "------------------------------\n",
      "Sample 6:\n",
      "Features: \n",
      "Nitrogen        61.000000\n",
      "Phosphorus      59.000000\n",
      "Potassium       17.000000\n",
      "Temperature     23.338446\n",
      "Humidity        59.245806\n",
      "pH_Value         6.474443\n",
      "Rainfall       105.008314\n",
      "Name: 184, dtype: float64\n",
      "Predicted Crop: Maize\n",
      "Ground Truth: Maize\n",
      "------------------------------\n"
     ]
    }
   ],
   "source": [
    "def test_random_samples(model, X_test, y_test, le, n_samples=6):\n",
    "    # Select 6 random indices\n",
    "    random_indices = random.sample(range(X_test.shape[0]), n_samples)\n",
    "    \n",
    "    # Extract the random samples\n",
    "    X_sample = X_test.iloc[random_indices, :]\n",
    "    y_true_sample = y_test.iloc[random_indices]\n",
    "    \n",
    "    # Predict crop recommendations\n",
    "    y_pred_sample = model.predict(X_sample)\n",
    "    \n",
    "    # Decode the predictions and ground truth back to crop names\n",
    "    crops_pred = le.inverse_transform(y_pred_sample)\n",
    "    crops_true = le.inverse_transform(y_true_sample)\n",
    "    \n",
    "    # Display the results\n",
    "    for i in range(n_samples):\n",
    "        print(f\"Sample {i+1}:\")\n",
    "        print(f\"Features: \\n{X_sample.iloc[i]}\")\n",
    "        print(f\"Predicted Crop: {crops_pred[i]}\")\n",
    "        print(f\"Ground Truth: {crops_true[i]}\")\n",
    "        print(\"-\" * 30)\n",
    "\n",
    "# Test the function with random samples\n",
    "test_random_samples(model, X_test, y_test, le)"
   ]
  },
  {
   "cell_type": "markdown",
   "metadata": {},
   "source": [
    "The model's output clearly shows that it has recommended the correct type of crop for all of the random test samples in this set."
   ]
  },
  {
   "cell_type": "markdown",
   "metadata": {},
   "source": [
    "### (Optional) Save the model, for later use"
   ]
  },
  {
   "cell_type": "code",
   "execution_count": 7,
   "metadata": {
    "execution": {
     "iopub.execute_input": "2024-10-10T10:42:47.361335Z",
     "iopub.status.busy": "2024-10-10T10:42:47.360860Z",
     "iopub.status.idle": "2024-10-10T10:42:47.403821Z",
     "shell.execute_reply": "2024-10-10T10:42:47.402042Z",
     "shell.execute_reply.started": "2024-10-10T10:42:47.361285Z"
    },
    "trusted": true
   },
   "outputs": [
    {
     "name": "stdout",
     "output_type": "stream",
     "text": [
      "Model and LabelEncoder saved successfully!\n"
     ]
    }
   ],
   "source": [
    "import pickle\n",
    "\n",
    "# Save the model to a file\n",
    "with open('crop_recommendation_model.pkl', 'wb') as model_file:\n",
    "    pickle.dump(model, model_file)\n",
    "\n",
    "# Save the label encoder\n",
    "with open('label_encoder.pkl', 'wb') as le_file:\n",
    "    pickle.dump(le, le_file)\n",
    "\n",
    "print(\"Model and LabelEncoder saved successfully!\")"
   ]
  },
  {
   "cell_type": "markdown",
   "metadata": {},
   "source": [
    "### The End:\n",
    "\n",
    "This is the end of this project notebook, make sure to experiment and contribute to help improve the model and implementation. You can browse more of the open-source free projects on our GitHub repository: https://github.com/Infinitode/OPEN-ARC. If you like this project, make sure to star the repo and contribute your implementation, or help others in the community.\n",
    "\n",
    "~ Infinitode"
   ]
  }
 ],
 "metadata": {
  "kaggle": {
   "accelerator": "none",
   "dataSources": [
    {
     "datasetId": 4933767,
     "sourceId": 8305330,
     "sourceType": "datasetVersion"
    }
   ],
   "dockerImageVersionId": 30786,
   "isGpuEnabled": false,
   "isInternetEnabled": true,
   "language": "python",
   "sourceType": "notebook"
  },
  "kernelspec": {
   "display_name": "Python 3",
   "language": "python",
   "name": "python3"
  },
  "language_info": {
   "codemirror_mode": {
    "name": "ipython",
    "version": 3
   },
   "file_extension": ".py",
   "mimetype": "text/x-python",
   "name": "python",
   "nbconvert_exporter": "python",
   "pygments_lexer": "ipython3",
   "version": "3.10.14"
  }
 },
 "nbformat": 4,
 "nbformat_minor": 4
}
