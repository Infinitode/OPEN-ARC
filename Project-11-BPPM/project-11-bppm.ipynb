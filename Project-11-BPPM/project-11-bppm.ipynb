{
 "cells": [
  {
   "cell_type": "markdown",
   "metadata": {},
   "source": [
    "# **OPEN-ARC**\n",
    "---\n",
    "\n",
    "### Project 11: Basic Personality Prediction Model:\n",
    "**Challenge:** Create an AI model, capable of classifying a person's basic personality type based on a set of features.\n",
    "\n",
    "\n",
    "### Terms and Use:\n",
    "Learn more about the project's [LICENSE](https://github.com/Infinitode/OPEN-ARC/blob/main/LICENSE) and read our [CODE_OF_CONDUCT](https://github.com/Infinitode/OPEN-ARC/blob/main/CODE_OF_CONDUCT) before contributing to the project. You can contribute to this project from here: [https://github.com/Infinitode/OPEN-ARC/](https://github.com/Infinitode/OPEN-ARC/).\n",
    "\n",
    "---"
   ]
  },
  {
   "cell_type": "markdown",
   "metadata": {},
   "source": [
    "Please fill out this performance sheet to help others quickly see your model's performance **(optional)**:\n",
    "\n",
    "### Performance Sheet:\n",
    "| Contributor | Architecture Type | Platform | Base Model | Dataset | Accuracy | Link |\n",
    "|-------------|-------------------|----------|------------|---------|----------|------|\n",
    "| Infinitode  | XGBClassifier  | Kaggle   | ✔  | Personality Dataset (introvert or Extrovert) | 92%    | [Notebook](https://github.com/Infinitode/OPEN-ARC/blob/main/Project-11-BPPM/project-11-bppm.ipynb) |\n",
    "| Username  | Unknown  | Kaggle   | ✗/✔  | Personality Dataset (introvert or Extrovert) | Score    | [Notebook](https://github.com) |\n",
    "\n",
    "---"
   ]
  },
  {
   "cell_type": "markdown",
   "metadata": {},
   "source": [
    "### Using `XGBClassifier`"
   ]
  },
  {
   "cell_type": "code",
   "execution_count": 18,
   "metadata": {
    "execution": {
     "iopub.execute_input": "2025-06-17T12:29:55.573608Z",
     "iopub.status.busy": "2025-06-17T12:29:55.573313Z",
     "iopub.status.idle": "2025-06-17T12:29:55.687150Z",
     "shell.execute_reply": "2025-06-17T12:29:55.685679Z",
     "shell.execute_reply.started": "2025-06-17T12:29:55.573589Z"
    },
    "trusted": true
   },
   "outputs": [
    {
     "data": {
      "text/html": [
       "<style>#sk-container-id-3 {color: black;background-color: white;}#sk-container-id-3 pre{padding: 0;}#sk-container-id-3 div.sk-toggleable {background-color: white;}#sk-container-id-3 label.sk-toggleable__label {cursor: pointer;display: block;width: 100%;margin-bottom: 0;padding: 0.3em;box-sizing: border-box;text-align: center;}#sk-container-id-3 label.sk-toggleable__label-arrow:before {content: \"▸\";float: left;margin-right: 0.25em;color: #696969;}#sk-container-id-3 label.sk-toggleable__label-arrow:hover:before {color: black;}#sk-container-id-3 div.sk-estimator:hover label.sk-toggleable__label-arrow:before {color: black;}#sk-container-id-3 div.sk-toggleable__content {max-height: 0;max-width: 0;overflow: hidden;text-align: left;background-color: #f0f8ff;}#sk-container-id-3 div.sk-toggleable__content pre {margin: 0.2em;color: black;border-radius: 0.25em;background-color: #f0f8ff;}#sk-container-id-3 input.sk-toggleable__control:checked~div.sk-toggleable__content {max-height: 200px;max-width: 100%;overflow: auto;}#sk-container-id-3 input.sk-toggleable__control:checked~label.sk-toggleable__label-arrow:before {content: \"▾\";}#sk-container-id-3 div.sk-estimator input.sk-toggleable__control:checked~label.sk-toggleable__label {background-color: #d4ebff;}#sk-container-id-3 div.sk-label input.sk-toggleable__control:checked~label.sk-toggleable__label {background-color: #d4ebff;}#sk-container-id-3 input.sk-hidden--visually {border: 0;clip: rect(1px 1px 1px 1px);clip: rect(1px, 1px, 1px, 1px);height: 1px;margin: -1px;overflow: hidden;padding: 0;position: absolute;width: 1px;}#sk-container-id-3 div.sk-estimator {font-family: monospace;background-color: #f0f8ff;border: 1px dotted black;border-radius: 0.25em;box-sizing: border-box;margin-bottom: 0.5em;}#sk-container-id-3 div.sk-estimator:hover {background-color: #d4ebff;}#sk-container-id-3 div.sk-parallel-item::after {content: \"\";width: 100%;border-bottom: 1px solid gray;flex-grow: 1;}#sk-container-id-3 div.sk-label:hover label.sk-toggleable__label {background-color: #d4ebff;}#sk-container-id-3 div.sk-serial::before {content: \"\";position: absolute;border-left: 1px solid gray;box-sizing: border-box;top: 0;bottom: 0;left: 50%;z-index: 0;}#sk-container-id-3 div.sk-serial {display: flex;flex-direction: column;align-items: center;background-color: white;padding-right: 0.2em;padding-left: 0.2em;position: relative;}#sk-container-id-3 div.sk-item {position: relative;z-index: 1;}#sk-container-id-3 div.sk-parallel {display: flex;align-items: stretch;justify-content: center;background-color: white;position: relative;}#sk-container-id-3 div.sk-item::before, #sk-container-id-3 div.sk-parallel-item::before {content: \"\";position: absolute;border-left: 1px solid gray;box-sizing: border-box;top: 0;bottom: 0;left: 50%;z-index: -1;}#sk-container-id-3 div.sk-parallel-item {display: flex;flex-direction: column;z-index: 1;position: relative;background-color: white;}#sk-container-id-3 div.sk-parallel-item:first-child::after {align-self: flex-end;width: 50%;}#sk-container-id-3 div.sk-parallel-item:last-child::after {align-self: flex-start;width: 50%;}#sk-container-id-3 div.sk-parallel-item:only-child::after {width: 0;}#sk-container-id-3 div.sk-dashed-wrapped {border: 1px dashed gray;margin: 0 0.4em 0.5em 0.4em;box-sizing: border-box;padding-bottom: 0.4em;background-color: white;}#sk-container-id-3 div.sk-label label {font-family: monospace;font-weight: bold;display: inline-block;line-height: 1.2em;}#sk-container-id-3 div.sk-label-container {text-align: center;}#sk-container-id-3 div.sk-container {/* jupyter's `normalize.less` sets `[hidden] { display: none; }` but bootstrap.min.css set `[hidden] { display: none !important; }` so we also need the `!important` here to be able to override the default hidden behavior on the sphinx rendered scikit-learn.org. See: https://github.com/scikit-learn/scikit-learn/issues/21755 */display: inline-block !important;position: relative;}#sk-container-id-3 div.sk-text-repr-fallback {display: none;}</style><div id=\"sk-container-id-3\" class=\"sk-top-container\"><div class=\"sk-text-repr-fallback\"><pre>XGBClassifier(base_score=None, booster=None, callbacks=None,\n",
       "              colsample_bylevel=None, colsample_bynode=None,\n",
       "              colsample_bytree=None, device=None, early_stopping_rounds=None,\n",
       "              enable_categorical=False, eval_metric=&#x27;logloss&#x27;,\n",
       "              feature_types=None, gamma=None, grow_policy=None,\n",
       "              importance_type=None, interaction_constraints=None,\n",
       "              learning_rate=0.1, max_bin=None, max_cat_threshold=None,\n",
       "              max_cat_to_onehot=None, max_delta_step=None, max_depth=4,\n",
       "              max_leaves=None, min_child_weight=None, missing=nan,\n",
       "              monotone_constraints=None, multi_strategy=None, n_estimators=200,\n",
       "              n_jobs=None, num_parallel_tree=None, random_state=42, ...)</pre><b>In a Jupyter environment, please rerun this cell to show the HTML representation or trust the notebook. <br />On GitHub, the HTML representation is unable to render, please try loading this page with nbviewer.org.</b></div><div class=\"sk-container\" hidden><div class=\"sk-item\"><div class=\"sk-estimator sk-toggleable\"><input class=\"sk-toggleable__control sk-hidden--visually\" id=\"sk-estimator-id-3\" type=\"checkbox\" checked><label for=\"sk-estimator-id-3\" class=\"sk-toggleable__label sk-toggleable__label-arrow\">XGBClassifier</label><div class=\"sk-toggleable__content\"><pre>XGBClassifier(base_score=None, booster=None, callbacks=None,\n",
       "              colsample_bylevel=None, colsample_bynode=None,\n",
       "              colsample_bytree=None, device=None, early_stopping_rounds=None,\n",
       "              enable_categorical=False, eval_metric=&#x27;logloss&#x27;,\n",
       "              feature_types=None, gamma=None, grow_policy=None,\n",
       "              importance_type=None, interaction_constraints=None,\n",
       "              learning_rate=0.1, max_bin=None, max_cat_threshold=None,\n",
       "              max_cat_to_onehot=None, max_delta_step=None, max_depth=4,\n",
       "              max_leaves=None, min_child_weight=None, missing=nan,\n",
       "              monotone_constraints=None, multi_strategy=None, n_estimators=200,\n",
       "              n_jobs=None, num_parallel_tree=None, random_state=42, ...)</pre></div></div></div></div></div>"
      ],
      "text/plain": [
       "XGBClassifier(base_score=None, booster=None, callbacks=None,\n",
       "              colsample_bylevel=None, colsample_bynode=None,\n",
       "              colsample_bytree=None, device=None, early_stopping_rounds=None,\n",
       "              enable_categorical=False, eval_metric='logloss',\n",
       "              feature_types=None, gamma=None, grow_policy=None,\n",
       "              importance_type=None, interaction_constraints=None,\n",
       "              learning_rate=0.1, max_bin=None, max_cat_threshold=None,\n",
       "              max_cat_to_onehot=None, max_delta_step=None, max_depth=4,\n",
       "              max_leaves=None, min_child_weight=None, missing=nan,\n",
       "              monotone_constraints=None, multi_strategy=None, n_estimators=200,\n",
       "              n_jobs=None, num_parallel_tree=None, random_state=42, ...)"
      ]
     },
     "execution_count": 18,
     "metadata": {},
     "output_type": "execute_result"
    }
   ],
   "source": [
    "import pandas as pd\n",
    "import numpy as np\n",
    "from sklearn.model_selection import train_test_split\n",
    "from sklearn.impute import SimpleImputer\n",
    "from sklearn.preprocessing import OneHotEncoder, LabelEncoder\n",
    "from xgboost import XGBClassifier\n",
    "import joblib\n",
    "\n",
    "DATA_PATH = \"/kaggle/input/personality-dataset-introvert-or-extrovert/personality_dataset.csv\"\n",
    "TARGET = \"Personality\"\n",
    "\n",
    "# Load and split\n",
    "df = pd.read_csv(DATA_PATH)\n",
    "X = df.drop(columns=[TARGET])\n",
    "y = df[TARGET]\n",
    "\n",
    "num_cols = X.select_dtypes(include=[\"int64\", \"float64\"]).columns.tolist()\n",
    "cat_cols = X.select_dtypes(include=[\"object\", \"category\"]).columns.tolist()\n",
    "\n",
    "X_train, X_test, y_train, y_test = train_test_split(\n",
    "    X, y, test_size=0.25, random_state=42, stratify=y\n",
    ")\n",
    "\n",
    "# Preprocessing\n",
    "num_imputer = SimpleImputer(strategy=\"median\")\n",
    "cat_imputer = SimpleImputer(strategy=\"most_frequent\")\n",
    "\n",
    "X_train_num = num_imputer.fit_transform(X_train[num_cols])\n",
    "X_train_cat = cat_imputer.fit_transform(X_train[cat_cols])\n",
    "\n",
    "ohe = OneHotEncoder(drop=\"first\", handle_unknown=\"ignore\", sparse_output=False)\n",
    "X_train_cat_enc = ohe.fit_transform(X_train_cat)\n",
    "\n",
    "# Prepare final matrix\n",
    "X_train_ready = np.hstack([X_train_num, X_train_cat_enc])\n",
    "\n",
    "# Encode labels and train\n",
    "le = LabelEncoder()\n",
    "y_train_enc = le.fit_transform(y_train)\n",
    "\n",
    "model = XGBClassifier(\n",
    "    n_estimators=200,\n",
    "    learning_rate=0.1,\n",
    "    max_depth=4,\n",
    "    eval_metric=\"logloss\",\n",
    "    use_label_encoder=False,\n",
    "    random_state=42,\n",
    ")\n",
    "model.fit(X_train_ready, y_train_enc)"
   ]
  },
  {
   "cell_type": "code",
   "execution_count": 21,
   "metadata": {
    "execution": {
     "iopub.execute_input": "2025-06-17T12:31:47.690774Z",
     "iopub.status.busy": "2025-06-17T12:31:47.690470Z",
     "iopub.status.idle": "2025-06-17T12:31:47.709851Z",
     "shell.execute_reply": "2025-06-17T12:31:47.709005Z",
     "shell.execute_reply.started": "2025-06-17T12:31:47.690751Z"
    },
    "trusted": true
   },
   "outputs": [
    {
     "name": "stdout",
     "output_type": "stream",
     "text": [
      "              precision    recall  f1-score   support\n",
      "\n",
      "   Extrovert       0.94      0.90      0.92       373\n",
      "   Introvert       0.90      0.93      0.92       352\n",
      "\n",
      "    accuracy                           0.92       725\n",
      "   macro avg       0.92      0.92      0.92       725\n",
      "weighted avg       0.92      0.92      0.92       725\n",
      "\n",
      "ROC AUC: 0.955\n"
     ]
    }
   ],
   "source": [
    "from sklearn.metrics import classification_report, roc_auc_score\n",
    "\n",
    "# Predict probabilities and labels\n",
    "y_proba = model.predict_proba(X_test_ready)[:, 1]  # probability for \"Extrovert\" (label 1)\n",
    "y_pred = model.predict(X_test_ready)\n",
    "\n",
    "# Reports\n",
    "print(classification_report(y_test_enc, y_pred, target_names=le.classes_))\n",
    "roc_auc = roc_auc_score(y_test_enc, y_proba)\n",
    "print(f\"ROC AUC: {roc_auc:.3f}\")"
   ]
  },
  {
   "cell_type": "markdown",
   "metadata": {},
   "source": [
    "Not bad at all, our model is now ready for the saving and then prediction..."
   ]
  },
  {
   "cell_type": "markdown",
   "metadata": {},
   "source": [
    "### Saving the necessary files"
   ]
  },
  {
   "cell_type": "code",
   "execution_count": 22,
   "metadata": {
    "execution": {
     "iopub.execute_input": "2025-06-17T12:31:58.028916Z",
     "iopub.status.busy": "2025-06-17T12:31:58.028622Z",
     "iopub.status.idle": "2025-06-17T12:31:58.040357Z",
     "shell.execute_reply": "2025-06-17T12:31:58.039730Z",
     "shell.execute_reply.started": "2025-06-17T12:31:58.028897Z"
    },
    "trusted": true
   },
   "outputs": [
    {
     "name": "stdout",
     "output_type": "stream",
     "text": [
      "All artifacts saved to personality_artifacts.pkl\n"
     ]
    }
   ],
   "source": [
    "import joblib\n",
    "\n",
    "artifacts = {\n",
    "    \"model\": model,\n",
    "    \"num_imputer\": num_imputer,\n",
    "    \"cat_imputer\": cat_imputer,\n",
    "    \"ohe\": ohe,\n",
    "    \"label_encoder\": le,\n",
    "    \"num_cols\": num_cols,\n",
    "    \"cat_cols\": cat_cols,\n",
    "}\n",
    "joblib.dump(artifacts, \"personality_artifacts.pkl\")\n",
    "print(\"All artifacts saved to personality_artifacts.pkl\")"
   ]
  },
  {
   "cell_type": "markdown",
   "metadata": {},
   "source": [
    "### Predicting personality type"
   ]
  },
  {
   "cell_type": "code",
   "execution_count": 26,
   "metadata": {
    "execution": {
     "iopub.execute_input": "2025-06-17T12:38:10.746200Z",
     "iopub.status.busy": "2025-06-17T12:38:10.745849Z",
     "iopub.status.idle": "2025-06-17T12:38:27.585057Z",
     "shell.execute_reply": "2025-06-17T12:38:27.583635Z",
     "shell.execute_reply.started": "2025-06-17T12:38:10.746174Z"
    },
    "trusted": true
   },
   "outputs": [
    {
     "name": "stdout",
     "output_type": "stream",
     "text": [
      "\n",
      "🎭  Introvert vs Extrovert Predictor\n",
      "Answer a few quick questions:\n",
      "\n"
     ]
    },
    {
     "name": "stdout",
     "output_type": "stream",
     "text": [
      "Hours spent alone per day (0‑24):  9\n",
      "Stage fear? (Yes/No):  yes\n",
      "Social events per week (0‑10):  4\n",
      "Trips outside per day (0‑10):  7\n",
      "Feel drained after socializing? (Yes/No):  no\n",
      "Number of close friends (0‑30):  0\n",
      "Social‑media posts per week (0‑30):  0\n"
     ]
    },
    {
     "name": "stdout",
     "output_type": "stream",
     "text": [
      "\n",
      "🔮 You are likely an **Introvert** (confidence 93%).\n"
     ]
    }
   ],
   "source": [
    "import joblib\n",
    "import pandas as pd\n",
    "import numpy as np\n",
    "\n",
    "# Load artifacts\n",
    "art = joblib.load(\"personality_artifacts.pkl\")\n",
    "model          = art[\"model\"]\n",
    "num_imputer    = art[\"num_imputer\"]\n",
    "cat_imputer    = art[\"cat_imputer\"]\n",
    "ohe            = art[\"ohe\"]\n",
    "le             = art[\"label_encoder\"]\n",
    "num_cols       = art[\"num_cols\"]\n",
    "cat_cols       = art[\"cat_cols\"]\n",
    "\n",
    "def ask(prompt, cast=str, options=None):\n",
    "    \"\"\"Tiny helper to get clean input.\"\"\"\n",
    "    while True:\n",
    "        try:\n",
    "            val = cast(input(prompt))\n",
    "            if options and val not in options:\n",
    "                raise ValueError(f\"Must be one of {options}\")\n",
    "            return val\n",
    "        except Exception as e:\n",
    "            print(f\"Error: {e}. Try again.\\n\")\n",
    "\n",
    "def predict_personality():\n",
    "    print(\"\\n🎭  Introvert vs Extrovert Predictor\")\n",
    "    print(\"Answer a few quick questions:\\n\")\n",
    "\n",
    "    # Gather answers\n",
    "    answers = {\n",
    "        \"Time_spent_Alone\":       ask(\"Hours spent alone per day (0‑24): \", float),\n",
    "        \"Stage_fear\":             ask(\"Stage fear? (Yes/No): \", str.title, [\"Yes\", \"No\"]),\n",
    "        \"Social_event_attendance\":ask(\"Social events per week (0‑10): \", int),\n",
    "        \"Going_outside\":          ask(\"Trips outside per day (0‑10): \", int),\n",
    "        \"Drained_after_socializing\": ask(\"Feel drained after socializing? (Yes/No): \",\n",
    "                                         str.title, [\"Yes\", \"No\"]),\n",
    "        \"Friends_circle_size\":    ask(\"Number of close friends (0‑30): \", int),\n",
    "        \"Post_frequency\":         ask(\"Social‑media posts per week (0‑30): \", int),\n",
    "    }\n",
    "\n",
    "    # Build one‑row DataFrame in correct column order\n",
    "    row = pd.DataFrame([answers])[num_cols + cat_cols]\n",
    "\n",
    "    # --- Re‑run exact preprocessing -------------------------------------------------\n",
    "    X_num = num_imputer.transform(row[num_cols])\n",
    "    X_cat = cat_imputer.transform(row[cat_cols])\n",
    "    X_cat_enc = ohe.transform(X_cat)\n",
    "    X_ready = np.hstack([X_num, X_cat_enc])\n",
    "\n",
    "    # --- Predict --------------------------------------------------------------------\n",
    "    proba = model.predict_proba(X_ready)[0]\n",
    "    idx = proba.argmax()\n",
    "    pred_label = le.inverse_transform([idx])[0]\n",
    "    confidence = proba[idx]\n",
    "\n",
    "    print(f\"\\n🔮 You are likely an **{pred_label}** (confidence {confidence:.0%}).\")\n",
    "\n",
    "predict_personality()"
   ]
  },
  {
   "cell_type": "markdown",
   "metadata": {},
   "source": [
    "### The End:\n",
    "\n",
    "This is the end of this project notebook, make sure to experiment and contribute to help improve the model and implementation. You can browse more of the open-source free projects on our GitHub repository: https://github.com/Infinitode/OPEN-ARC. If you like this project, make sure to star the repo and contribute your implementation, or help others in the community.\n",
    "\n",
    "~ Infinitode"
   ]
  }
 ],
 "metadata": {
  "kaggle": {
   "accelerator": "none",
   "dataSources": [
    {
     "datasetId": 7643684,
     "sourceId": 12137488,
     "sourceType": "datasetVersion"
    }
   ],
   "dockerImageVersionId": 31040,
   "isGpuEnabled": false,
   "isInternetEnabled": true,
   "language": "python",
   "sourceType": "notebook"
  },
  "kernelspec": {
   "display_name": "Python 3",
   "language": "python",
   "name": "python3"
  },
  "language_info": {
   "codemirror_mode": {
    "name": "ipython",
    "version": 3
   },
   "file_extension": ".py",
   "mimetype": "text/x-python",
   "name": "python",
   "nbconvert_exporter": "python",
   "pygments_lexer": "ipython3",
   "version": "3.11.11"
  }
 },
 "nbformat": 4,
 "nbformat_minor": 4
}
