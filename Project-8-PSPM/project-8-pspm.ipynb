{
 "cells": [
  {
   "cell_type": "markdown",
   "metadata": {},
   "source": [
    "# **OPEN-ARC**\n",
    "---\n",
    "\n",
    "### Project 8: Plant Stress Prediction Model:\n",
    "**Challenge:** Create an AI model, capable of predicting a plant's stress level.\n",
    "\n",
    "\n",
    "### Terms and Use:\n",
    "Learn more about the project's [LICENSE](https://github.com/Infinitode/OPEN-ARC/blob/main/LICENSE) and read our [CODE_OF_CONDUCT](https://github.com/Infinitode/OPEN-ARC/blob/main/CODE_OF_CONDUCT) before contributing to the project. You can contribute to this project from here: [https://github.com/Infinitode/OPEN-ARC/](https://github.com/Infinitode/OPEN-ARC/).\n",
    "\n",
    "---"
   ]
  },
  {
   "cell_type": "markdown",
   "metadata": {},
   "source": [
    "Please fill out this performance sheet to help others quickly see your model's performance **(optional)**:\n",
    "\n",
    "### Performance Sheet:\n",
    "| Contributor | Architecture Type | Platform | Base Model | Dataset | BLEU-Score | Link |\n",
    "|-------------|-------------------|----------|------------|---------|----------|------|\n",
    "| Infinitode  | XGBClassifier  | Kaggle   | ✔  | Plant-Health-Data | 99.1%    | [Notebook](https://github.com/Infinitode/OPEN-ARC/blob/main/Project-8-PSPM/project-8-pspm.ipynb) |\n",
    "| Username  | Unknown  | Kaggle   | ✗/✔  | Plant-Health-Data | Score    | [Notebook](https://github.com) |\n",
    "\n",
    "---"
   ]
  },
  {
   "cell_type": "markdown",
   "metadata": {},
   "source": [
    "### Model: XGBoostClassifier:\n",
    "This implementation uses an XGBoost Classifier model. You can learn more about XGBoost classifiers from here: https://apmonitor.com/pds/index.php/Main/XGBoostClassifier"
   ]
  },
  {
   "cell_type": "code",
   "execution_count": 16,
   "metadata": {
    "execution": {
     "iopub.execute_input": "2024-11-20T09:56:47.339137Z",
     "iopub.status.busy": "2024-11-20T09:56:47.338417Z",
     "iopub.status.idle": "2024-11-20T09:56:47.557801Z",
     "shell.execute_reply": "2024-11-20T09:56:47.557111Z",
     "shell.execute_reply.started": "2024-11-20T09:56:47.339102Z"
    },
    "trusted": true
   },
   "outputs": [
    {
     "name": "stdout",
     "output_type": "stream",
     "text": [
      "   Soil_Moisture  Ambient_Temperature  Soil_Temperature   Humidity  \\\n",
      "0      27.521109            22.240245         21.900435  55.291904   \n",
      "1      14.835566            21.706763         18.680892  63.949181   \n",
      "2      17.086362            21.180946         15.392939  67.837956   \n",
      "3      15.336156            22.593302         22.778394  58.190811   \n",
      "4      39.822216            28.929001         18.100937  63.772036   \n",
      "\n",
      "   Light_Intensity   Soil_pH  Nitrogen_Level  Phosphorus_Level  \\\n",
      "0       556.172805  5.581955       10.003650         45.806852   \n",
      "1       596.136721  7.135705       30.712562         25.394393   \n",
      "2       591.124627  5.656852       29.337002         27.573892   \n",
      "3       241.412476  5.584523       16.966621         26.180705   \n",
      "4       444.493830  5.919707       10.944961         37.898907   \n",
      "\n",
      "   Potassium_Level  Chlorophyll_Content  Electrochemical_Signal  \\\n",
      "0        39.076199            35.703006                0.941402   \n",
      "1        17.944826            27.993296                0.164899   \n",
      "2        35.706530            43.646308                1.081728   \n",
      "3        26.257746            37.838095                1.186088   \n",
      "4        37.654483            48.265812                1.609805   \n",
      "\n",
      "  Plant_Health_Status  \n",
      "0         High Stress  \n",
      "1         High Stress  \n",
      "2         High Stress  \n",
      "3         High Stress  \n",
      "4         High Stress  \n",
      "<class 'pandas.core.frame.DataFrame'>\n",
      "RangeIndex: 1200 entries, 0 to 1199\n",
      "Data columns (total 12 columns):\n",
      " #   Column                  Non-Null Count  Dtype  \n",
      "---  ------                  --------------  -----  \n",
      " 0   Soil_Moisture           1200 non-null   float64\n",
      " 1   Ambient_Temperature     1200 non-null   float64\n",
      " 2   Soil_Temperature        1200 non-null   float64\n",
      " 3   Humidity                1200 non-null   float64\n",
      " 4   Light_Intensity         1200 non-null   float64\n",
      " 5   Soil_pH                 1200 non-null   float64\n",
      " 6   Nitrogen_Level          1200 non-null   float64\n",
      " 7   Phosphorus_Level        1200 non-null   float64\n",
      " 8   Potassium_Level         1200 non-null   float64\n",
      " 9   Chlorophyll_Content     1200 non-null   float64\n",
      " 10  Electrochemical_Signal  1200 non-null   float64\n",
      " 11  Plant_Health_Status     1200 non-null   object \n",
      "dtypes: float64(11), object(1)\n",
      "memory usage: 112.6+ KB\n",
      "None\n",
      "       Soil_Moisture  Ambient_Temperature  Soil_Temperature     Humidity  \\\n",
      "count    1200.000000          1200.000000       1200.000000  1200.000000   \n",
      "mean       25.106918            23.999130         19.957794    54.853165   \n",
      "std         8.677725             3.441561          2.932073     8.784916   \n",
      "min        10.000724            18.001993         15.003710    40.028758   \n",
      "25%        17.131893            21.101766         17.353027    47.019694   \n",
      "50%        25.168333            23.889044         19.911473    54.692069   \n",
      "75%        32.370231            27.042634         22.596851    62.451053   \n",
      "max        39.993164            29.990886         24.995929    69.968871   \n",
      "\n",
      "       Light_Intensity      Soil_pH  Nitrogen_Level  Phosphorus_Level  \\\n",
      "count      1200.000000  1200.000000     1200.000000       1200.000000   \n",
      "mean        612.637265     6.524102       30.106751         30.264484   \n",
      "std         228.318853     0.581755       11.514396         11.466846   \n",
      "min         200.615482     5.507392       10.003650         10.017690   \n",
      "25%         416.878983     6.026042       20.249774         20.894445   \n",
      "50%         617.240221     6.540524       30.138590         30.019385   \n",
      "75%         811.474690     7.030039       40.184737         40.131459   \n",
      "max         999.856262     7.497823       49.951136         49.980700   \n",
      "\n",
      "       Potassium_Level  Chlorophyll_Content  Electrochemical_Signal  \n",
      "count      1200.000000          1200.000000             1200.000000  \n",
      "mean         30.112088            34.749591                0.987764  \n",
      "std          11.668085             8.766995                0.575116  \n",
      "min          10.000606            20.025511                0.002376  \n",
      "25%          19.585561            27.463350                0.487982  \n",
      "50%          30.495054            34.433427                0.981647  \n",
      "75%          40.108296            42.232637                1.473142  \n",
      "max          49.981945            49.990811                1.996116  \n",
      "Accuracy: 0.9916666666666667\n",
      "              precision    recall  f1-score   support\n",
      "\n",
      "           0       1.00      1.00      1.00        60\n",
      "           1       0.98      1.00      0.99        80\n",
      "           2       1.00      0.98      0.99       100\n",
      "\n",
      "    accuracy                           0.99       240\n",
      "   macro avg       0.99      0.99      0.99       240\n",
      "weighted avg       0.99      0.99      0.99       240\n",
      "\n"
     ]
    }
   ],
   "source": [
    "# Import necessary libraries\n",
    "import pandas as pd\n",
    "import numpy as np\n",
    "from sklearn.model_selection import train_test_split\n",
    "from sklearn.metrics import accuracy_score, classification_report\n",
    "from xgboost import XGBClassifier\n",
    "\n",
    "# Load dataset\n",
    "file_path = \"/kaggle/input/plant-health-data/plant_health_data.csv\"\n",
    "data = pd.read_csv(file_path)\n",
    "\n",
    "# Drop unnecessary features\n",
    "data = data.drop(['Timestamp', 'Plant_ID'], axis=1)\n",
    "\n",
    "# Data exploration\n",
    "print(data.head())\n",
    "print(data.info())\n",
    "print(data.describe())\n",
    "\n",
    "# Handle missing values\n",
    "data = data.dropna()\n",
    "\n",
    "# Encoding categorical variables\n",
    "# Define mapping\n",
    "health_mapping = {\n",
    "    \"Healthy\": 0,\n",
    "    \"Moderate Stress\": 1,\n",
    "    \"High Stress\": 2\n",
    "}\n",
    "\n",
    "# Apply mapping to the target column\n",
    "data['Plant_Health_Status'] = data['Plant_Health_Status'].map(health_mapping)\n",
    "\n",
    "# Split dataset into features and target\n",
    "X = data.drop(columns=[\"Plant_Health_Status\"])\n",
    "y = data[\"Plant_Health_Status\"]\n",
    "\n",
    "# Train-test split\n",
    "X_train, X_test, y_train, y_test = train_test_split(X, y, test_size=0.2, random_state=42, stratify=y)\n",
    "\n",
    "# Initialize and train the model\n",
    "xgb = XGBClassifier(\n",
    "    n_estimators=100, \n",
    "    learning_rate=0.1, \n",
    "    max_depth=6, \n",
    "    subsample=0.8, \n",
    "    colsample_bytree=0.8, \n",
    "    random_state=42\n",
    ")\n",
    "xgb.fit(X_train, y_train)\n",
    "\n",
    "# Predictions and evaluation\n",
    "y_pred = xgb.predict(X_test)\n",
    "accuracy = accuracy_score(y_test, y_pred)\n",
    "print(f\"Accuracy: {accuracy}\")\n",
    "print(classification_report(y_test, y_pred))"
   ]
  },
  {
   "cell_type": "markdown",
   "metadata": {},
   "source": [
    "An accuracy of `99.16%` is quite exceptional. This means that our model could correctly, in almost all cases, assume the health of a plant, given the features in our dataset."
   ]
  },
  {
   "cell_type": "code",
   "execution_count": 17,
   "metadata": {
    "execution": {
     "iopub.execute_input": "2024-11-20T09:56:54.207801Z",
     "iopub.status.busy": "2024-11-20T09:56:54.206994Z",
     "iopub.status.idle": "2024-11-20T09:56:54.222793Z",
     "shell.execute_reply": "2024-11-20T09:56:54.222110Z",
     "shell.execute_reply.started": "2024-11-20T09:56:54.207766Z"
    },
    "trusted": true
   },
   "outputs": [],
   "source": [
    "# Save the trained model\n",
    "xgb.save_model(\"xgb_plant_health.json\")"
   ]
  },
  {
   "cell_type": "markdown",
   "metadata": {},
   "source": [
    "## Testing the model\n",
    "\n",
    "Below, we'll test the model on random samples, comparing them to the true labels in the dataset."
   ]
  },
  {
   "cell_type": "code",
   "execution_count": 21,
   "metadata": {
    "execution": {
     "iopub.execute_input": "2024-11-20T09:58:29.452791Z",
     "iopub.status.busy": "2024-11-20T09:58:29.451890Z",
     "iopub.status.idle": "2024-11-20T09:58:29.466750Z",
     "shell.execute_reply": "2024-11-20T09:58:29.464940Z",
     "shell.execute_reply.started": "2024-11-20T09:58:29.452754Z"
    },
    "trusted": true
   },
   "outputs": [
    {
     "name": "stdout",
     "output_type": "stream",
     "text": [
      "Testing on Random Samples:\n",
      "Sample Index: 68\n",
      "Features: [ 14.95127629  28.1448083   19.76793919  60.04383982 320.72798012\n",
      "   7.44179672  36.14175518  30.49286292  42.79289468  21.38528052\n",
      "   1.66735995]\n",
      "True Label: 2, Predicted Label: 2\n",
      "True Label (Description): High Stress, Predicted Label (Description): High Stress\n",
      "----------------------------------------\n",
      "Sample Index: 104\n",
      "Features: [ 11.94587385  28.0830208   24.58021046  50.62789124 768.22040676\n",
      "   6.21460401  46.363573    44.67257557  38.58131534  48.09147089\n",
      "   1.79547927]\n",
      "True Label: 2, Predicted Label: 2\n",
      "True Label (Description): High Stress, Predicted Label (Description): High Stress\n",
      "----------------------------------------\n",
      "Sample Index: 65\n",
      "Features: [ 22.01587866  29.60668838  21.42104682  63.83220953 392.30986702\n",
      "   6.47412594  38.72747773  19.84868482  14.82515429  48.8969809\n",
      "   1.26613011]\n",
      "True Label: 1, Predicted Label: 1\n",
      "True Label (Description): Moderate Stress, Predicted Label (Description): Moderate Stress\n",
      "----------------------------------------\n",
      "Sample Index: 46\n",
      "Features: [1.67807192e+01 2.62039689e+01 2.45843189e+01 5.48677298e+01\n",
      " 5.76542529e+02 6.15550067e+00 3.65185453e+01 4.12206766e+01\n",
      " 3.94286517e+01 2.77041887e+01 1.89338401e-01]\n",
      "True Label: 2, Predicted Label: 2\n",
      "True Label (Description): High Stress, Predicted Label (Description): High Stress\n",
      "----------------------------------------\n",
      "Sample Index: 204\n",
      "Features: [ 39.81537878  20.2771955   18.9226839   54.43601719 228.894018\n",
      "   5.56682416  35.08135061  46.86679827  47.26147699  37.11228146\n",
      "   0.48222   ]\n",
      "True Label: 0, Predicted Label: 0\n",
      "True Label (Description): Healthy, Predicted Label (Description): Healthy\n",
      "----------------------------------------\n"
     ]
    }
   ],
   "source": [
    "import random\n",
    "\n",
    "def test_random_samples(model, X_test, y_test, n_samples=5):\n",
    "    \"\"\"\n",
    "    Selects random samples from the test set, makes predictions, and compares with actual values.\n",
    "    \n",
    "    Parameters:\n",
    "    - model: Trained XGBoost classifier.\n",
    "    - X_test: Feature set for testing.\n",
    "    - y_test: True labels for testing.\n",
    "    - n_samples: Number of random samples to test.\n",
    "    \n",
    "    Returns:\n",
    "    None\n",
    "    \"\"\"\n",
    "    # Convert X_test and y_test to DataFrame for easier indexing\n",
    "    X_test_df = X_test.reset_index(drop=True)\n",
    "    y_test_df = y_test.reset_index(drop=True)\n",
    "\n",
    "    # Pick random indices\n",
    "    random_indices = random.sample(range(len(X_test)), n_samples)\n",
    "    \n",
    "    print(\"Testing on Random Samples:\")\n",
    "    for idx in random_indices:\n",
    "        sample = X_test_df.iloc[idx]\n",
    "        true_label = y_test_df.iloc[idx]\n",
    "        \n",
    "        # Predict using the model\n",
    "        prediction = model.predict(sample.values.reshape(1, -1))\n",
    "\n",
    "        # Reverse the health mapping\n",
    "        reverse_health_mapping = {v: k for k, v in health_mapping.items()}\n",
    "\n",
    "        # Map true and predicted labels\n",
    "        true_label_description = reverse_health_mapping[true_label]\n",
    "        predicted_label_description = reverse_health_mapping[prediction[0]]\n",
    "        \n",
    "        # Output results\n",
    "        print(f\"Sample Index: {idx}\")\n",
    "        print(f\"Features: {sample.values}\")\n",
    "        print(f\"True Label: {true_label}, Predicted Label: {prediction[0]}\")\n",
    "        print(f\"True Label (Description): {true_label_description}, Predicted Label (Description): {predicted_label_description}\")\n",
    "        print(\"-\" * 40)\n",
    "\n",
    "# Example usage\n",
    "test_random_samples(xgb, X_test, y_test)"
   ]
  },
  {
   "cell_type": "markdown",
   "metadata": {},
   "source": [
    "### The End:\n",
    "\n",
    "This is the end of this project notebook, make sure to experiment and contribute to help improve the model and implementation. You can browse more of the open-source free projects on our GitHub repository: https://github.com/Infinitode/OPEN-ARC. If you like this project, make sure to star the repo and contribute your implementation, or help others in the community.\n",
    "\n",
    "~ Infinitode"
   ]
  }
 ],
 "metadata": {
  "kaggle": {
   "accelerator": "gpu",
   "dataSources": [
    {
     "datasetId": 5995087,
     "sourceId": 9784968,
     "sourceType": "datasetVersion"
    }
   ],
   "dockerImageVersionId": 30787,
   "isGpuEnabled": true,
   "isInternetEnabled": true,
   "language": "python",
   "sourceType": "notebook"
  },
  "kernelspec": {
   "display_name": "Python 3",
   "language": "python",
   "name": "python3"
  },
  "language_info": {
   "codemirror_mode": {
    "name": "ipython",
    "version": 3
   },
   "file_extension": ".py",
   "mimetype": "text/x-python",
   "name": "python",
   "nbconvert_exporter": "python",
   "pygments_lexer": "ipython3",
   "version": "3.10.14"
  }
 },
 "nbformat": 4,
 "nbformat_minor": 4
}
