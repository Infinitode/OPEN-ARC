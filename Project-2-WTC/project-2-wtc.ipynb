{
 "cells": [
  {
   "cell_type": "markdown",
   "metadata": {},
   "source": [
    "# **OPEN-ARC**\n",
    "---\n",
    "\n",
    "### Project 2: Weather Type Classification Model:\n",
    "**Challenge:** Create an AI model, capable of classifying the weather type based on 10 different features. It is important to note that this data is synthetic, and does not represent real-world data. This project is part of a collaborative research project, OPEN-ARC, aiming to improve AI solutions for everyone.\n",
    "\n",
    "\n",
    "### Terms and Use:\n",
    "Learn more about the project's [LICENSE](https://github.com/Infinitode/OPEN-ARC/blob/main/LICENSE) and read our [CODE_OF_CONDUCT](https://github.com/Infinitode/OPEN-ARC/blob/main/CODE_OF_CONDUCT) before contributing to the project. You can contribute to this project from here: [https://github.com/Infinitode/OPEN-ARC/](https://github.com/Infinitode/OPEN-ARC/).\n",
    "\n",
    "---"
   ]
  },
  {
   "cell_type": "markdown",
   "metadata": {},
   "source": [
    "Please fill out this performance sheet to help others quickly see your model's performance **(optional)**:\n",
    "\n",
    "### Performance Sheet:\n",
    "| Contributor | Architecture Type | Platform | Base Model | Dataset | Accuracy | Link |\n",
    "|-------------|-------------------|----------|------------|---------|----------|------|\n",
    "| Infinitode  | RandomForestClassifier  | Kaggle   | ✗  | Weather Type Classification | 91.2%    | [Notebook](https://github.com/Infinitode/OPEN-ARC/blob/main/Project-2-WTC/project-2-wtc.ipynb) |\n",
    "| Username  | Unknown  | Kaggle   | ✗/✔  | Weather Type Classification | Score    | [Notebook](https://github.com) |\n",
    "\n",
    "---"
   ]
  },
  {
   "cell_type": "markdown",
   "metadata": {},
   "source": [
    "### Model: Decision Tree Classifier:\n",
    "This model uses **Grid Search** to optimize the model for the best performance and accuracy score while training. Grid Search uses a defined `grid` so to speak, to tune the model's parameters. Whichever combination of parameters in the grid has the highest accuracy score is used."
   ]
  },
  {
   "cell_type": "code",
   "execution_count": 2,
   "metadata": {
    "execution": {
     "iopub.execute_input": "2024-06-26T07:43:09.846828Z",
     "iopub.status.busy": "2024-06-26T07:43:09.845743Z",
     "iopub.status.idle": "2024-06-26T07:43:14.175059Z",
     "shell.execute_reply": "2024-06-26T07:43:14.173998Z",
     "shell.execute_reply.started": "2024-06-26T07:43:09.846777Z"
    },
    "trusted": true
   },
   "outputs": [
    {
     "name": "stdout",
     "output_type": "stream",
     "text": [
      "Decision Tree Test Accuracy: 0.9053030303030303\n"
     ]
    }
   ],
   "source": [
    "import pandas as pd\n",
    "import numpy as np\n",
    "from sklearn.model_selection import train_test_split, GridSearchCV\n",
    "from sklearn.preprocessing import LabelEncoder, MinMaxScaler\n",
    "from sklearn.tree import DecisionTreeClassifier\n",
    "from sklearn.metrics import accuracy_score\n",
    "\n",
    "# Load the dataset\n",
    "data = pd.read_csv('/kaggle/input/weather-type-classification/weather_classification_data.csv')\n",
    "\n",
    "# Preprocess the data using a LabelEncoder to transform text data into numerical data\n",
    "label_encoder = LabelEncoder()\n",
    "data['Cloud Cover'] = label_encoder.fit_transform(data['Cloud Cover'])\n",
    "data['Season'] = label_encoder.fit_transform(data['Season'])\n",
    "data['Location'] = label_encoder.fit_transform(data['Location'])\n",
    "data['Weather Type'] = label_encoder.fit_transform(data['Weather Type'])\n",
    "\n",
    "X = data.drop('Weather Type', axis=1)\n",
    "y = data['Weather Type']\n",
    "\n",
    "# Scale the numerical features to improve the accuracy score\n",
    "numerical_cols = X.select_dtypes(include=['float64', 'int64']).columns\n",
    "scaler = MinMaxScaler()\n",
    "X[numerical_cols] = scaler.fit_transform(X[numerical_cols])\n",
    "\n",
    "# Split the data into train and test sets\n",
    "X_train, X_test, y_train, y_test = train_test_split(X, y, test_size=0.2, random_state=42)\n",
    "\n",
    "# Tune the decision tree model using GridSearchCV\n",
    "param_grid = {\n",
    "    'max_depth': [3, 5, 7, None],\n",
    "    'min_samples_leaf': [1, 2, 4],\n",
    "    'criterion': ['gini', 'entropy']\n",
    "}\n",
    "\n",
    "dt_grid_search = GridSearchCV(DecisionTreeClassifier(), param_grid, cv=5, scoring='accuracy')\n",
    "dt_grid_search.fit(X_train, y_train)\n",
    "\n",
    "best_params = dt_grid_search.best_params_\n",
    "best_dt_model = dt_grid_search.best_estimator_\n",
    "\n",
    "# Evaluate the best decision tree model on the test set\n",
    "y_pred = best_dt_model.predict(X_test)\n",
    "test_acc = accuracy_score(y_test, y_pred)\n",
    "print(f\"Decision Tree Test Accuracy: {test_acc}\")"
   ]
  },
  {
   "cell_type": "markdown",
   "metadata": {},
   "source": [
    "Not bad, a testing accuracy of 90%, but we can do better."
   ]
  },
  {
   "cell_type": "markdown",
   "metadata": {},
   "source": [
    "### Model: Random Forest Classifier:\n",
    "Let's now use a **Random Forest Classifier**. This implemenation won't include **Feature Selection** to improve the model's accuracy score, since we have data that roughly correlates to eachother. This is one of those cases where Feature Selection causes the model to perform worse (89% Testing Accuracy)."
   ]
  },
  {
   "cell_type": "code",
   "execution_count": 36,
   "metadata": {
    "execution": {
     "iopub.execute_input": "2024-06-26T08:34:12.892057Z",
     "iopub.status.busy": "2024-06-26T08:34:12.891096Z",
     "iopub.status.idle": "2024-06-26T08:34:14.451486Z",
     "shell.execute_reply": "2024-06-26T08:34:14.450291Z",
     "shell.execute_reply.started": "2024-06-26T08:34:12.892007Z"
    },
    "trusted": true
   },
   "outputs": [
    {
     "name": "stdout",
     "output_type": "stream",
     "text": [
      "Random Forest Test Accuracy: 0.9128787878787878\n"
     ]
    }
   ],
   "source": [
    "import pandas as pd\n",
    "import numpy as np\n",
    "from sklearn.model_selection import train_test_split\n",
    "from sklearn.ensemble import RandomForestClassifier\n",
    "from sklearn.preprocessing import LabelEncoder, MinMaxScaler\n",
    "from sklearn.metrics import accuracy_score\n",
    "\n",
    "# Load the dataset\n",
    "data = pd.read_csv('/kaggle/input/weather-type-classification/weather_classification_data.csv')\n",
    "\n",
    "# Initialize the LabelEncoders for the categorical features\n",
    "label_encoders = {\n",
    "    'Cloud Cover': LabelEncoder(),\n",
    "    'Season': LabelEncoder(),\n",
    "    'Location': LabelEncoder(),\n",
    "    'Weather Type': LabelEncoder()\n",
    "}\n",
    "\n",
    "# Fit the LabelEncoders\n",
    "for feature in ['Cloud Cover', 'Season', 'Location', 'Weather Type']:\n",
    "    data[feature] = label_encoders[feature].fit_transform(data[feature])\n",
    "\n",
    "X = data.drop('Weather Type', axis=1)\n",
    "y = data['Weather Type']\n",
    "\n",
    "# Identify numerical columns for scaling\n",
    "numerical_cols = X.select_dtypes(include=['float64', 'int64']).columns\n",
    "\n",
    "# Split the data into train and test sets\n",
    "X_train, X_test, y_train, y_test = train_test_split(X, y, test_size=0.2, random_state=42)\n",
    "\n",
    "# Initialize and fit the scaler on the training data\n",
    "scaler = MinMaxScaler()\n",
    "X_train[numerical_cols] = scaler.fit_transform(X_train[numerical_cols])\n",
    "X_test[numerical_cols] = scaler.transform(X_test[numerical_cols])\n",
    "\n",
    "features = X_train.columns\n",
    "\n",
    "# Create the model\n",
    "rf_model = RandomForestClassifier(n_estimators=100, random_state=42, min_samples_split=5, min_samples_leaf=1)\n",
    "\n",
    "# Train the Random Forest model\n",
    "rf_model.fit(X_train, y_train)\n",
    "\n",
    "# Evaluate the model on the test set\n",
    "y_pred = rf_model.predict(X_test)\n",
    "test_acc = accuracy_score(y_test, y_pred)\n",
    "print(f\"Random Forest Test Accuracy: {test_acc}\")\n",
    "\n",
    "# Function to take user input and predict the type of weather\n",
    "def predict_weather_type():\n",
    "    input_data = {}\n",
    "    for feature in features:\n",
    "        if feature == \"Temperature\":\n",
    "            print(\"Temperature in degrees Celsius, example 17\")\n",
    "        if feature == \"Humidity\":\n",
    "            print(\"Humidity, ranging from 0 to above 100 (outliers), example 45\")\n",
    "        if feature == \"Wind Speed\":\n",
    "            print(\"Wind speed in kilometers per hour, example 15\")\n",
    "        if feature == \"Precipitation (%)\":\n",
    "            print(\"Precipitation, ranging from 0 to above 100 (outliers), example 45\")\n",
    "        if feature == \"Cloud Cover\":\n",
    "            print(\"Cloud Coverage, (overcast, partly cloudy, clear, cloudy), example cloudy\")\n",
    "        if feature == \"Atmospheric Pressure\":\n",
    "            print(\"Atmospheric Pressure in hPa, typically ranges from 800 to 1200, example 956\")\n",
    "        if feature == \"UV Index\":\n",
    "            print(\"UV Index, typically ranges from 0 to 14, example 3\")\n",
    "        if feature == \"Season\":\n",
    "            print(\"Season, (Winter, Summer, Spring, Autumn), example Winter\")\n",
    "        if feature == \"Visibility (km)\":\n",
    "            print(\"Visibility in kilometer, ranges from 0 to 20, example 15\")\n",
    "        if feature == \"Location\":\n",
    "            print(\"Location, (inland, mountain, coastal), example inland\")\n",
    "        value = input(f\"Enter the value for '{feature}': \")\n",
    "        if feature in label_encoders:\n",
    "            # Check if the input value is within the known categories\n",
    "            if value in label_encoders[feature].classes_:\n",
    "                # Encode categorical features\n",
    "                value = label_encoders[feature].transform([value])[0]\n",
    "            else:\n",
    "                print(f\"Error: '{value}' is not a known category for '{feature}'. Known categories are: {label_encoders[feature].classes_}\")\n",
    "                return\n",
    "        input_data[feature] = [float(value) if feature in numerical_cols else value]\n",
    "\n",
    "    input_df = pd.DataFrame(input_data)\n",
    "\n",
    "    # Scale the input data\n",
    "    input_df[numerical_cols] = scaler.transform(input_df[numerical_cols])\n",
    "\n",
    "    # Make prediction\n",
    "    prediction = rf_model.predict(input_df[features])\n",
    "    weather_type = label_encoders['Weather Type'].inverse_transform(prediction)\n",
    "    print(f\"Predicted type of weather: {weather_type[0]}\")"
   ]
  },
  {
   "cell_type": "markdown",
   "metadata": {},
   "source": [
    "Just a little bit better, we get 91% instead of 90%, but we don't want to spoil all of the fun, have at it! You can also run the cell below, to test the model for yourself, on your own data, or on data from other datasets, or sources."
   ]
  },
  {
   "cell_type": "code",
   "execution_count": null,
   "metadata": {
    "trusted": true
   },
   "outputs": [],
   "source": [
    "# Call the prediction function to test out the model\n",
    "predict_weather_type()"
   ]
  },
  {
   "cell_type": "markdown",
   "metadata": {},
   "source": [
    "### The End:\n",
    "This is the end of this project notebook, make sure to experiment and contribute to help improve the model and implementation. You can browse more of the open-source free projects on our GitHub repository: [https://github.com/Infinitode/OPEN-ARC](https://github.com/Infinitode/OPEN-ARC). If you like this project, make sure to star the repo and contribute your implementation, or help others in the community.\n",
    "\n",
    "~ Infinitode"
   ]
  }
 ],
 "metadata": {
  "kaggle": {
   "accelerator": "none",
   "dataSources": [
    {
     "datasetId": 5268544,
     "sourceId": 8767723,
     "sourceType": "datasetVersion"
    }
   ],
   "dockerImageVersionId": 30732,
   "isGpuEnabled": false,
   "isInternetEnabled": true,
   "language": "python",
   "sourceType": "notebook"
  },
  "kernelspec": {
   "display_name": "Python 3",
   "language": "python",
   "name": "python3"
  },
  "language_info": {
   "codemirror_mode": {
    "name": "ipython",
    "version": 3
   },
   "file_extension": ".py",
   "mimetype": "text/x-python",
   "name": "python",
   "nbconvert_exporter": "python",
   "pygments_lexer": "ipython3",
   "version": "3.10.13"
  }
 },
 "nbformat": 4,
 "nbformat_minor": 4
}
