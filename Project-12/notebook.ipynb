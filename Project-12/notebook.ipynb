{
 "cells": [
  {
   "cell_type": "markdown",
   "metadata": {},
   "source": [
    "# **OPEN-ARC**\n",
    "---\n",
    "\n",
    "### Project 12: Spam Mail Classification Model:\n",
    "**Challenge:** Create an AI model, capable of classifying mail as either spam or ham.\n",
    "\n",
    "\n",
    "### Terms and Use:\n",
    "Learn more about the project's [LICENSE](https://github.com/Infinitode/OPEN-ARC/blob/main/LICENSE) and read our [CODE_OF_CONDUCT](https://github.com/Infinitode/OPEN-ARC/blob/main/CODE_OF_CONDUCT) before contributing to the project. You can contribute to this project from here: [https://github.com/Infinitode/OPEN-ARC/](https://github.com/Infinitode/OPEN-ARC/).\n",
    "\n",
    "---"
   ]
  },
  {
   "cell_type": "markdown",
   "metadata": {},
   "source": [
    "Please fill out this performance sheet to help others quickly see your model's performance **(optional)**:\n",
    "\n",
    "### Performance Sheet:\n",
    "| Contributor | Architecture Type | Platform | Base Model | Dataset | Accuracy | Link |\n",
    "|-------------|-------------------|----------|------------|---------|----------|------|\n",
    "| Infinitode  | MultinomialNB  | Kaggle   | ✔  | Spam Mail Classifier Dataset | 98.4%    | [Notebook](https://github.com/Infinitode/OPEN-ARC/blob/main/Project-12/notebook.ipynb) |\n",
    "| Username  | Unknown  | Kaggle   | ✗/✔  | Unknown | Score    | [Notebook](https://github.com) |\n",
    "\n",
    "---"
   ]
  },
  {
   "cell_type": "markdown",
   "metadata": {},
   "source": [
    "## 1. Data Processing\n",
    "\n",
    "Check for missing values and split features and target. We'll also create our train test split sets."
   ]
  },
  {
   "cell_type": "code",
   "execution_count": 3,
   "metadata": {
    "execution": {
     "iopub.execute_input": "2025-09-24T06:06:59.153945Z",
     "iopub.status.busy": "2025-09-24T06:06:59.152811Z",
     "iopub.status.idle": "2025-09-24T06:06:59.281228Z",
     "shell.execute_reply": "2025-09-24T06:06:59.279941Z",
     "shell.execute_reply.started": "2025-09-24T06:06:59.153913Z"
    },
    "trusted": true
   },
   "outputs": [],
   "source": [
    "import pandas as pd\n",
    "from sklearn.model_selection import train_test_split\n",
    "from sklearn.feature_extraction.text import CountVectorizer\n",
    "\n",
    "# Load the dataset\n",
    "# Make sure the file path is correct for your environment\n",
    "try:\n",
    "    df = pd.read_csv('/kaggle/input/spam-mail-classifier/sms_spam.csv')\n",
    "except FileNotFoundError:\n",
    "    print(\"Dataset not found. Please check the file path.\")\n",
    "\n",
    "# Handle missing values by dropping them\n",
    "df.dropna(inplace=True)\n",
    "\n",
    "# Separate features (text) and target (label)\n",
    "X = df['text']\n",
    "y = df['type']\n",
    "\n",
    "# Split the data into training and testing sets\n",
    "X_train, X_test, y_train, y_test = train_test_split(X, y, test_size=0.2, random_state=42)\n",
    "\n",
    "# Vectorize the text data using CountVectorizer\n",
    "# This converts text documents into a matrix of token counts\n",
    "vectorizer = CountVectorizer(stop_words='english')\n",
    "X_train_vectorized = vectorizer.fit_transform(X_train)\n",
    "X_test_vectorized = vectorizer.transform(X_test)"
   ]
  },
  {
   "cell_type": "markdown",
   "metadata": {},
   "source": [
    "## 2. Model Training\n",
    "\n",
    "Train a simple `Multinomial Naive Bayes model` (works especially well with discrete features)."
   ]
  },
  {
   "cell_type": "code",
   "execution_count": 4,
   "metadata": {
    "execution": {
     "iopub.execute_input": "2025-09-24T06:07:05.653504Z",
     "iopub.status.busy": "2025-09-24T06:07:05.653190Z",
     "iopub.status.idle": "2025-09-24T06:07:05.756642Z",
     "shell.execute_reply": "2025-09-24T06:07:05.755486Z",
     "shell.execute_reply.started": "2025-09-24T06:07:05.653478Z"
    },
    "trusted": true
   },
   "outputs": [
    {
     "data": {
      "text/html": [
       "<style>#sk-container-id-1 {color: black;background-color: white;}#sk-container-id-1 pre{padding: 0;}#sk-container-id-1 div.sk-toggleable {background-color: white;}#sk-container-id-1 label.sk-toggleable__label {cursor: pointer;display: block;width: 100%;margin-bottom: 0;padding: 0.3em;box-sizing: border-box;text-align: center;}#sk-container-id-1 label.sk-toggleable__label-arrow:before {content: \"▸\";float: left;margin-right: 0.25em;color: #696969;}#sk-container-id-1 label.sk-toggleable__label-arrow:hover:before {color: black;}#sk-container-id-1 div.sk-estimator:hover label.sk-toggleable__label-arrow:before {color: black;}#sk-container-id-1 div.sk-toggleable__content {max-height: 0;max-width: 0;overflow: hidden;text-align: left;background-color: #f0f8ff;}#sk-container-id-1 div.sk-toggleable__content pre {margin: 0.2em;color: black;border-radius: 0.25em;background-color: #f0f8ff;}#sk-container-id-1 input.sk-toggleable__control:checked~div.sk-toggleable__content {max-height: 200px;max-width: 100%;overflow: auto;}#sk-container-id-1 input.sk-toggleable__control:checked~label.sk-toggleable__label-arrow:before {content: \"▾\";}#sk-container-id-1 div.sk-estimator input.sk-toggleable__control:checked~label.sk-toggleable__label {background-color: #d4ebff;}#sk-container-id-1 div.sk-label input.sk-toggleable__control:checked~label.sk-toggleable__label {background-color: #d4ebff;}#sk-container-id-1 input.sk-hidden--visually {border: 0;clip: rect(1px 1px 1px 1px);clip: rect(1px, 1px, 1px, 1px);height: 1px;margin: -1px;overflow: hidden;padding: 0;position: absolute;width: 1px;}#sk-container-id-1 div.sk-estimator {font-family: monospace;background-color: #f0f8ff;border: 1px dotted black;border-radius: 0.25em;box-sizing: border-box;margin-bottom: 0.5em;}#sk-container-id-1 div.sk-estimator:hover {background-color: #d4ebff;}#sk-container-id-1 div.sk-parallel-item::after {content: \"\";width: 100%;border-bottom: 1px solid gray;flex-grow: 1;}#sk-container-id-1 div.sk-label:hover label.sk-toggleable__label {background-color: #d4ebff;}#sk-container-id-1 div.sk-serial::before {content: \"\";position: absolute;border-left: 1px solid gray;box-sizing: border-box;top: 0;bottom: 0;left: 50%;z-index: 0;}#sk-container-id-1 div.sk-serial {display: flex;flex-direction: column;align-items: center;background-color: white;padding-right: 0.2em;padding-left: 0.2em;position: relative;}#sk-container-id-1 div.sk-item {position: relative;z-index: 1;}#sk-container-id-1 div.sk-parallel {display: flex;align-items: stretch;justify-content: center;background-color: white;position: relative;}#sk-container-id-1 div.sk-item::before, #sk-container-id-1 div.sk-parallel-item::before {content: \"\";position: absolute;border-left: 1px solid gray;box-sizing: border-box;top: 0;bottom: 0;left: 50%;z-index: -1;}#sk-container-id-1 div.sk-parallel-item {display: flex;flex-direction: column;z-index: 1;position: relative;background-color: white;}#sk-container-id-1 div.sk-parallel-item:first-child::after {align-self: flex-end;width: 50%;}#sk-container-id-1 div.sk-parallel-item:last-child::after {align-self: flex-start;width: 50%;}#sk-container-id-1 div.sk-parallel-item:only-child::after {width: 0;}#sk-container-id-1 div.sk-dashed-wrapped {border: 1px dashed gray;margin: 0 0.4em 0.5em 0.4em;box-sizing: border-box;padding-bottom: 0.4em;background-color: white;}#sk-container-id-1 div.sk-label label {font-family: monospace;font-weight: bold;display: inline-block;line-height: 1.2em;}#sk-container-id-1 div.sk-label-container {text-align: center;}#sk-container-id-1 div.sk-container {/* jupyter's `normalize.less` sets `[hidden] { display: none; }` but bootstrap.min.css set `[hidden] { display: none !important; }` so we also need the `!important` here to be able to override the default hidden behavior on the sphinx rendered scikit-learn.org. See: https://github.com/scikit-learn/scikit-learn/issues/21755 */display: inline-block !important;position: relative;}#sk-container-id-1 div.sk-text-repr-fallback {display: none;}</style><div id=\"sk-container-id-1\" class=\"sk-top-container\"><div class=\"sk-text-repr-fallback\"><pre>MultinomialNB()</pre><b>In a Jupyter environment, please rerun this cell to show the HTML representation or trust the notebook. <br />On GitHub, the HTML representation is unable to render, please try loading this page with nbviewer.org.</b></div><div class=\"sk-container\" hidden><div class=\"sk-item\"><div class=\"sk-estimator sk-toggleable\"><input class=\"sk-toggleable__control sk-hidden--visually\" id=\"sk-estimator-id-1\" type=\"checkbox\" checked><label for=\"sk-estimator-id-1\" class=\"sk-toggleable__label sk-toggleable__label-arrow\">MultinomialNB</label><div class=\"sk-toggleable__content\"><pre>MultinomialNB()</pre></div></div></div></div></div>"
      ],
      "text/plain": [
       "MultinomialNB()"
      ]
     },
     "execution_count": 4,
     "metadata": {},
     "output_type": "execute_result"
    }
   ],
   "source": [
    "from sklearn.naive_bayes import MultinomialNB\n",
    "\n",
    "# Initialize and train the model\n",
    "model = MultinomialNB()\n",
    "model.fit(X_train_vectorized, y_train)"
   ]
  },
  {
   "cell_type": "markdown",
   "metadata": {},
   "source": [
    "## 3. Evaluation & Scores\n",
    "\n",
    "Evalute and score the trained model on the held out testing set."
   ]
  },
  {
   "cell_type": "code",
   "execution_count": 6,
   "metadata": {
    "execution": {
     "iopub.execute_input": "2025-09-24T06:09:07.252763Z",
     "iopub.status.busy": "2025-09-24T06:09:07.252423Z",
     "iopub.status.idle": "2025-09-24T06:09:07.298317Z",
     "shell.execute_reply": "2025-09-24T06:09:07.297392Z",
     "shell.execute_reply.started": "2025-09-24T06:09:07.252742Z"
    },
    "trusted": true
   },
   "outputs": [
    {
     "name": "stdout",
     "output_type": "stream",
     "text": [
      "Accuracy: 0.9848\n",
      "Precision (for 'spam'): 0.9615\n",
      "Recall (for 'spam'): 0.9317\n",
      "F1 Score (for 'spam'): 0.9464\n",
      "\n",
      "Confusion Matrix:\n",
      "[[948   6]\n",
      " [ 11 150]]\n",
      "Rows represent true labels (ham, spam), columns represent predicted labels (ham, spam).\n"
     ]
    }
   ],
   "source": [
    "from sklearn.metrics import accuracy_score, precision_score, recall_score, f1_score, confusion_matrix\n",
    "\n",
    "# Make predictions on the test data\n",
    "y_pred = model.predict(X_test_vectorized)\n",
    "\n",
    "# Define 'spam' as the positive label for metrics calculation\n",
    "positive_label = 'spam'\n",
    "\n",
    "# Calculate evaluation metrics\n",
    "accuracy = accuracy_score(y_test, y_pred)\n",
    "precision = precision_score(y_test, y_pred, pos_label=positive_label, average='binary')\n",
    "recall = recall_score(y_test, y_pred, pos_label=positive_label, average='binary')\n",
    "f1 = f1_score(y_test, y_pred, pos_label=positive_label, average='binary')\n",
    "conf_matrix = confusion_matrix(y_test, y_pred, labels=y.unique())\n",
    "\n",
    "print(f\"Accuracy: {accuracy:.4f}\")\n",
    "print(f\"Precision (for '{positive_label}'): {precision:.4f}\")\n",
    "print(f\"Recall (for '{positive_label}'): {recall:.4f}\")\n",
    "print(f\"F1 Score (for '{positive_label}'): {f1:.4f}\")\n",
    "print(\"\\nConfusion Matrix:\")\n",
    "print(conf_matrix)\n",
    "print(\"Rows represent true labels (ham, spam), columns represent predicted labels (ham, spam).\")"
   ]
  },
  {
   "cell_type": "markdown",
   "metadata": {},
   "source": [
    "Got an `accuracy of 0.9848` after testing, which means that the model is really good at classifying text as spam or ham."
   ]
  },
  {
   "cell_type": "markdown",
   "metadata": {},
   "source": [
    "## 4. Inference & Testing\n",
    "\n",
    "Test using a predefined string array."
   ]
  },
  {
   "cell_type": "code",
   "execution_count": 10,
   "metadata": {
    "execution": {
     "iopub.execute_input": "2025-09-24T06:10:16.948252Z",
     "iopub.status.busy": "2025-09-24T06:10:16.947907Z",
     "iopub.status.idle": "2025-09-24T06:10:16.955896Z",
     "shell.execute_reply": "2025-09-24T06:10:16.954771Z",
     "shell.execute_reply.started": "2025-09-24T06:10:16.948226Z"
    },
    "trusted": true
   },
   "outputs": [
    {
     "name": "stdout",
     "output_type": "stream",
     "text": [
      "\n",
      "Email: 'Congratulations! You've won a free prize. Click the link to claim.'\n",
      "Prediction: spam\n",
      "\n",
      "Email: 'Hi, just confirming our meeting for tomorrow at 10 AM. Thanks.'\n",
      "Prediction: ham\n"
     ]
    }
   ],
   "source": [
    "# Example of a new email to classify\n",
    "new_emails = [\n",
    "    \"Congratulations! You've won a free prize. Click the link to claim.\", # Likely spam\n",
    "    \"Hi, just confirming our meeting for tomorrow at 10 AM. Thanks.\" # Likely not spam\n",
    "]\n",
    "\n",
    "# Vectorize the new emails using the same fitted vectorizer\n",
    "new_emails_vectorized = vectorizer.transform(new_emails)\n",
    "\n",
    "# Make predictions\n",
    "predictions = model.predict(new_emails_vectorized)\n",
    "\n",
    "for i, email in enumerate(new_emails):\n",
    "    print(f\"\\nEmail: '{email}'\")\n",
    "    print(f\"Prediction: {predictions[i]}\")"
   ]
  },
  {
   "cell_type": "markdown",
   "metadata": {},
   "source": [
    "## 5. Saving\n",
    "\n",
    "We're using `joblib` to quickly and easily save our trained model and vectorizer to JSON files."
   ]
  },
  {
   "cell_type": "code",
   "execution_count": 11,
   "metadata": {
    "execution": {
     "iopub.execute_input": "2025-09-24T06:17:26.109017Z",
     "iopub.status.busy": "2025-09-24T06:17:26.108639Z",
     "iopub.status.idle": "2025-09-24T06:17:26.151540Z",
     "shell.execute_reply": "2025-09-24T06:17:26.150408Z",
     "shell.execute_reply.started": "2025-09-24T06:17:26.108983Z"
    },
    "trusted": true
   },
   "outputs": [
    {
     "name": "stdout",
     "output_type": "stream",
     "text": [
      "Model saved as 'spam_classifier_model.joblib'\n",
      "Vectorizer saved as 'vectorizer.joblib'\n"
     ]
    }
   ],
   "source": [
    "import joblib\n",
    "\n",
    "# Save the model to a file\n",
    "joblib.dump(model, 'spam_classifier_model.joblib')\n",
    "print(\"Model saved as 'spam_classifier_model.joblib'\")\n",
    "\n",
    "# Save the vectorizer to a file\n",
    "joblib.dump(vectorizer, 'vectorizer.joblib')\n",
    "print(\"Vectorizer saved as 'vectorizer.joblib'\")"
   ]
  },
  {
   "cell_type": "markdown",
   "metadata": {},
   "source": [
    "### The End:\n",
    "\n",
    "This is the end of this project notebook, make sure to experiment and contribute to help improve the model and implementation. You can browse more of the open-source free projects on our GitHub repository: https://github.com/Infinitode/OPEN-ARC. If you like this project, make sure to star the repo and contribute your implementation, or help others in the community.\n",
    "\n",
    "~ Infinitode"
   ]
  }
 ],
 "metadata": {
  "kaggle": {
   "accelerator": "none",
   "dataSources": [
    {
     "datasetId": 8159594,
     "sourceId": 12907387,
     "sourceType": "datasetVersion"
    }
   ],
   "dockerImageVersionId": 31089,
   "isGpuEnabled": false,
   "isInternetEnabled": true,
   "language": "python",
   "sourceType": "notebook"
  },
  "kernelspec": {
   "display_name": "Python 3",
   "language": "python",
   "name": "python3"
  },
  "language_info": {
   "codemirror_mode": {
    "name": "ipython",
    "version": 3
   },
   "file_extension": ".py",
   "mimetype": "text/x-python",
   "name": "python",
   "nbconvert_exporter": "python",
   "pygments_lexer": "ipython3",
   "version": "3.11.13"
  }
 },
 "nbformat": 4,
 "nbformat_minor": 4
}
